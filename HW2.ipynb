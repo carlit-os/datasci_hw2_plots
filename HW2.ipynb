{
 "cells": [
  {
   "cell_type": "markdown",
   "metadata": {},
   "source": [
    "## Note: All plots should meet the basic requirements of scientific plotting. For example, having title, x-axis, y-axis, legend... Interpretation of plots can get full points as long as they make sense."
   ]
  },
  {
   "cell_type": "markdown",
   "metadata": {},
   "source": [
    "## Q0: import the dataset to a pandas dataframe\n"
   ]
  },
  {
   "cell_type": "code",
   "execution_count": 8,
   "metadata": {},
   "outputs": [],
   "source": [
    "import pandas as pd\n",
    "import matplotlib.pyplot as plt\n",
    "\n",
    "imdb_path = \"/Users/Andy/Desktop/imdb_dataset/movie_metadata.csv\"\n",
    "\n",
    "\n",
    "df_im = pd.read_csv(imdb_path)\n",
    "df_im = df_im.dropna()\n"
   ]
  },
  {
   "cell_type": "markdown",
   "metadata": {},
   "source": [
    "## Q1. (1%) Historgam.\n",
    "### Plot the histogram of movie durations. Note: plot only movies with a duration of less than or equal to 240 minutes. Use a bin size of 30."
   ]
  },
  {
   "cell_type": "code",
   "execution_count": 15,
   "metadata": {},
   "outputs": [
    {
     "data": {
      "text/plain": "<Figure size 432x288 with 1 Axes>",
      "image/png": "[encoded data removed]"
     },
     "metadata": {},
     "output_type": "display_data"
    },
    {
     "name": "stdout",
     "output_type": "stream",
     "text": [
      "Almost all movies included in this data are in between 80 and 120 minutes long. The rightward skew points towards longer movies\n"
     ]
    }
   ],
   "source": [
    "df_shortfilms_large = df_im[df_im[\"duration\"] <= 240]\n",
    "\n",
    "df_shortfilms = df_shortfilms_large[\"duration\"]\n",
    "\n",
    "shortfilms = df_shortfilms.tolist()\n",
    "\n",
    "plt.style.use('seaborn-whitegrid')\n",
    "plt.hist(shortfilms, bins=30,facecolor=\"#2ab0ff\" ,edgecolor='#196acf')\n",
    "\n",
    "plt.title(\"Movie Durations\")\n",
    "\n",
    "plt.xlabel('Duration (Minutes)')\n",
    "plt.ylabel(\"Frequency\")\n",
    "\n",
    "plt.show()\n",
    "\n",
    "\n",
    "print(\"Almost all movies included in this data are in between 80 and 120 minutes long. The rightward skew points towards longer movies\")\n"
   ]
  },
  {
   "cell_type": "markdown",
   "metadata": {},
   "source": [
    "## Q2. (1.2%) Side-by-side box plot.\n",
    "### Generate a side-by-side box plot to show the distribution of the number of critic reviews on four rating categories: PG-13, PG, G, and R. What insights can you get from the plot?"
   ]
  },
  {
   "cell_type": "code",
   "execution_count": 3,
   "metadata": {},
   "outputs": [],
   "source": [
    "##TODO\n"
   ]
  },
  {
   "cell_type": "code",
   "execution_count": 4,
   "metadata": {},
   "outputs": [
    {
     "name": "stdout",
     "output_type": "stream",
     "text": [
      "Insights:\t your insights\n"
     ]
    }
   ],
   "source": [
    "df_Grated = df_im[df_im[\"content_rating\"] == \"G\"]\n",
    "df_PGrated = df_im[df_im[\"content_rating\"] == \"PG\"]\n",
    "df_pg13rated = df_im[df_im[\"content_rating\"] == \"PG-13\"]\n",
    "df_Rrated = df_im[df_im[\"content_rating\"] == \"R\"]\n",
    "\n",
    "df_gCritics = df_Grated[\"num_critic_for_reviews\"]\n",
    "df_pgCritics = df_PGrated[\"num_critic_for_reviews\"]\n",
    "df_pg13Critics = df_pg13rated[\"num_critic_for_reviews\"]\n",
    "df_rCritics = df_Rrated[\"num_critic_for_reviews\"]\n",
    "\n",
    "gCritics = df_gCritics.tolist() \n",
    "pgCritics  = df_pgCritics.tolist() \n",
    "pg13Critics = df_pg13Critics.tolist() \n",
    "rCritics = df_rCritics.tolist() \n",
    "\n",
    "plt.subplot(1,4,1)\n",
    "plt.his\n",
    "\n",
    "\n",
    "##TODO \n",
    "insights = 'your insights'\n",
    "print('Insights:\\t', insights)"
   ]
  },
  {
   "cell_type": "markdown",
   "metadata": {},
   "source": [
    "## Q3. (1.2%) QQ plot.\n",
    "### We want to specifically compare the distribution of the number of critic reviews on two rating categories: R and PG-13. Generate a QQ plot and make comparisons on the two distributions from the plot. What insights can you get from the plot?"
   ]
  },
  {
   "cell_type": "code",
   "execution_count": 5,
   "metadata": {},
   "outputs": [],
   "source": [
    "##TODO\n"
   ]
  },
  {
   "cell_type": "code",
   "execution_count": 6,
   "metadata": {},
   "outputs": [
    {
     "name": "stdout",
     "output_type": "stream",
     "text": [
      "Insights:\t your insights\n"
     ]
    }
   ],
   "source": [
    "##TODO \n",
    "insights = 'your insights'\n",
    "print('Insights:\\t', insights)"
   ]
  },
  {
   "cell_type": "markdown",
   "metadata": {},
   "source": [
    "## Q4. (1.2%) Scatter plot.\n",
    "### Now we pay our attention to movies that are rated as 'G'.  Generate a scatter plot on the number of critic reviews and the number of user reviews. Use colors to show the IMDb scores. What insights can you get from the plot?\n"
   ]
  },
  {
   "cell_type": "code",
   "execution_count": 7,
   "metadata": {},
   "outputs": [],
   "source": [
    "##TODO"
   ]
  },
  {
   "cell_type": "code",
   "execution_count": 8,
   "metadata": {},
   "outputs": [
    {
     "name": "stdout",
     "output_type": "stream",
     "text": [
      "Insights:\t your insights\n"
     ]
    }
   ],
   "source": [
    "##TODO \n",
    "insights = 'your insights'\n",
    "print('Insights:\\t', insights)"
   ]
  },
  {
   "cell_type": "markdown",
   "metadata": {},
   "source": [
    "## Q5. (1.4%) Star plot.\n",
    "### We want to compare the number of Facebook likes for the following eight countries: Australia, Canada, France, Germany, India, Spain, UK, and USA. \n",
    "### Specifically, we want to draw three curves, each representing one of the following values for all countries: mean of movie_facebook_likes,mean of actor_1_facebook_likes, mean of director_facebook_likes\n",
    "### Generate a star plot that shows the above information. Each of the equiangular spokes should represent one country."
   ]
  },
  {
   "cell_type": "markdown",
   "metadata": {},
   "source": [
    "Hint1: Read https://www.kite.com/python/examples/5561/matplotlib-plot-a-polar-plot \n",
    "\n",
    "Hint2: the theta value is in the radian unit, so you might find https://docs.python.org/3/library/math.html#math.radians  useful."
   ]
  },
  {
   "cell_type": "code",
   "execution_count": 9,
   "metadata": {},
   "outputs": [],
   "source": [
    "##TODO\n"
   ]
  },
  {
   "cell_type": "code",
   "execution_count": 10,
   "metadata": {},
   "outputs": [
    {
     "name": "stdout",
     "output_type": "stream",
     "text": [
      "Insights:\t your insights\n"
     ]
    }
   ],
   "source": [
    "##TODO \n",
    "insights = 'your insights'\n",
    "print('Insights:\\t', insights)"
   ]
  }
 ],
 "metadata": {
  "kernelspec": {
   "display_name": "Python 3",
   "language": "python",
   "name": "python3"
  },
  "language_info": {
   "codemirror_mode": {
    "name": "ipython",
    "version": 3
   },
   "file_extension": ".py",
   "mimetype": "text/x-python",
   "name": "python",
   "nbconvert_exporter": "python",
   "pygments_lexer": "ipython3",
   "version": "3.8.5"
  }
 },
 "nbformat": 4,
 "nbformat_minor": 4
}